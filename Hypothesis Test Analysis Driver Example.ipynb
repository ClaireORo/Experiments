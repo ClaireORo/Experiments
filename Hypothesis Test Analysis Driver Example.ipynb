{
 "cells": [
  {
   "cell_type": "code",
   "execution_count": 22,
   "id": "c27a8d68",
   "metadata": {},
   "outputs": [],
   "source": [
    "import pandas as pd \n",
    "import numpy as np \n",
    "import matplotlib.pyplot as plt \n",
    "import seaborn as sns\n",
    "import scipy\n",
    "%matplotlib inline"
   ]
  },
  {
   "cell_type": "markdown",
   "id": "407e388d",
   "metadata": {},
   "source": [
    "# Task\n",
    "\n",
    "The team wanted to find out if a certain email campaign works to incentivise the drivers to be more active in our platform.To do so we randomly divided the drivers in two groups A and B. Group B received an email informing drivers of when we expect high customer demand in the following week. Group A did not receive the email. Please find out about the effect of the campaign. Explain how you determine the impact and why you chose such a method to evaluate it.\n"
   ]
  },
  {
   "cell_type": "markdown",
   "id": "ed547255",
   "metadata": {},
   "source": [
    "# Exploration and hypothesis test\n",
    "\n",
    "This part is intended to for an audiences interested in the statistics and methodology used. In another section further below, I have presented the results in a way that focuses on business impact and should be digestible for all stakeholders, regardless of their level of statistical literacy.  "
   ]
  },
  {
   "cell_type": "code",
   "execution_count": 2,
   "id": "89821db5",
   "metadata": {},
   "outputs": [
    {
     "data": {
      "text/html": [
       "<div>\n",
       "<style scoped>\n",
       "    .dataframe tbody tr th:only-of-type {\n",
       "        vertical-align: middle;\n",
       "    }\n",
       "\n",
       "    .dataframe tbody tr th {\n",
       "        vertical-align: top;\n",
       "    }\n",
       "\n",
       "    .dataframe thead th {\n",
       "        text-align: right;\n",
       "    }\n",
       "</style>\n",
       "<table border=\"1\" class=\"dataframe\">\n",
       "  <thead>\n",
       "    <tr style=\"text-align: right;\">\n",
       "      <th></th>\n",
       "      <th></th>\n",
       "      <th>freenow_driver_campaign</th>\n",
       "    </tr>\n",
       "  </thead>\n",
       "  <tbody>\n",
       "    <tr>\n",
       "      <th>driver</th>\n",
       "      <th>rides_within_week</th>\n",
       "      <td>test_group</td>\n",
       "    </tr>\n",
       "    <tr>\n",
       "      <th>1</th>\n",
       "      <th>88</th>\n",
       "      <td>A</td>\n",
       "    </tr>\n",
       "    <tr>\n",
       "      <th>2</th>\n",
       "      <th>56</th>\n",
       "      <td>B</td>\n",
       "    </tr>\n",
       "    <tr>\n",
       "      <th>3</th>\n",
       "      <th>80</th>\n",
       "      <td>B</td>\n",
       "    </tr>\n",
       "    <tr>\n",
       "      <th>4</th>\n",
       "      <th>49</th>\n",
       "      <td>A</td>\n",
       "    </tr>\n",
       "  </tbody>\n",
       "</table>\n",
       "</div>"
      ],
      "text/plain": [
       "                         freenow_driver_campaign\n",
       "driver rides_within_week              test_group\n",
       "1      88                                      A\n",
       "2      56                                      B\n",
       "3      80                                      B\n",
       "4      49                                      A"
      ]
     },
     "execution_count": 2,
     "metadata": {},
     "output_type": "execute_result"
    }
   ],
   "source": [
    "#Clean up the data\n",
    "dc=pd.read_csv(\"freenow_driver_campaign.csv\")\n",
    "dc.head()"
   ]
  },
  {
   "cell_type": "code",
   "execution_count": 3,
   "id": "6b59d795",
   "metadata": {},
   "outputs": [
    {
     "data": {
      "text/html": [
       "<div>\n",
       "<style scoped>\n",
       "    .dataframe tbody tr th:only-of-type {\n",
       "        vertical-align: middle;\n",
       "    }\n",
       "\n",
       "    .dataframe tbody tr th {\n",
       "        vertical-align: top;\n",
       "    }\n",
       "\n",
       "    .dataframe thead th {\n",
       "        text-align: right;\n",
       "    }\n",
       "</style>\n",
       "<table border=\"1\" class=\"dataframe\">\n",
       "  <thead>\n",
       "    <tr style=\"text-align: right;\">\n",
       "      <th></th>\n",
       "      <th>level_0</th>\n",
       "      <th>level_1</th>\n",
       "      <th>freenow_driver_campaign</th>\n",
       "    </tr>\n",
       "  </thead>\n",
       "  <tbody>\n",
       "    <tr>\n",
       "      <th>0</th>\n",
       "      <td>driver</td>\n",
       "      <td>rides_within_week</td>\n",
       "      <td>test_group</td>\n",
       "    </tr>\n",
       "    <tr>\n",
       "      <th>1</th>\n",
       "      <td>1</td>\n",
       "      <td>88</td>\n",
       "      <td>A</td>\n",
       "    </tr>\n",
       "    <tr>\n",
       "      <th>2</th>\n",
       "      <td>2</td>\n",
       "      <td>56</td>\n",
       "      <td>B</td>\n",
       "    </tr>\n",
       "    <tr>\n",
       "      <th>3</th>\n",
       "      <td>3</td>\n",
       "      <td>80</td>\n",
       "      <td>B</td>\n",
       "    </tr>\n",
       "    <tr>\n",
       "      <th>4</th>\n",
       "      <td>4</td>\n",
       "      <td>49</td>\n",
       "      <td>A</td>\n",
       "    </tr>\n",
       "  </tbody>\n",
       "</table>\n",
       "</div>"
      ],
      "text/plain": [
       "  level_0            level_1 freenow_driver_campaign\n",
       "0  driver  rides_within_week              test_group\n",
       "1       1                 88                       A\n",
       "2       2                 56                       B\n",
       "3       3                 80                       B\n",
       "4       4                 49                       A"
      ]
     },
     "execution_count": 3,
     "metadata": {},
     "output_type": "execute_result"
    }
   ],
   "source": [
    "dc.reset_index(inplace=True)\n",
    "dc.head()"
   ]
  },
  {
   "cell_type": "code",
   "execution_count": 4,
   "id": "0ab4e441",
   "metadata": {},
   "outputs": [],
   "source": [
    "dc=dc[dc['level_0']!='driver']"
   ]
  },
  {
   "cell_type": "code",
   "execution_count": 5,
   "id": "2cf425a2",
   "metadata": {},
   "outputs": [],
   "source": [
    "dc=dc.rename(columns={'level_0': 'driver', 'level_1': 'rides_within_week','freenow_driver_campaign':'test_group'})"
   ]
  },
  {
   "cell_type": "code",
   "execution_count": 6,
   "id": "2b4d6542",
   "metadata": {},
   "outputs": [],
   "source": [
    "dc['rides_within_week']=pd.to_numeric(dc[\"rides_within_week\"])"
   ]
  },
  {
   "cell_type": "code",
   "execution_count": 7,
   "id": "01e96a7e",
   "metadata": {},
   "outputs": [
    {
     "data": {
      "text/html": [
       "<div>\n",
       "<style scoped>\n",
       "    .dataframe tbody tr th:only-of-type {\n",
       "        vertical-align: middle;\n",
       "    }\n",
       "\n",
       "    .dataframe tbody tr th {\n",
       "        vertical-align: top;\n",
       "    }\n",
       "\n",
       "    .dataframe thead th {\n",
       "        text-align: right;\n",
       "    }\n",
       "</style>\n",
       "<table border=\"1\" class=\"dataframe\">\n",
       "  <thead>\n",
       "    <tr style=\"text-align: right;\">\n",
       "      <th></th>\n",
       "      <th>count</th>\n",
       "      <th>mean</th>\n",
       "      <th>std</th>\n",
       "      <th>min</th>\n",
       "      <th>25%</th>\n",
       "      <th>50%</th>\n",
       "      <th>75%</th>\n",
       "      <th>max</th>\n",
       "    </tr>\n",
       "    <tr>\n",
       "      <th>test_group</th>\n",
       "      <th></th>\n",
       "      <th></th>\n",
       "      <th></th>\n",
       "      <th></th>\n",
       "      <th></th>\n",
       "      <th></th>\n",
       "      <th></th>\n",
       "      <th></th>\n",
       "    </tr>\n",
       "  </thead>\n",
       "  <tbody>\n",
       "    <tr>\n",
       "      <th>A</th>\n",
       "      <td>5000.0</td>\n",
       "      <td>50.0450</td>\n",
       "      <td>18.729600</td>\n",
       "      <td>0.0</td>\n",
       "      <td>37.0</td>\n",
       "      <td>50.0</td>\n",
       "      <td>63.0</td>\n",
       "      <td>120.0</td>\n",
       "    </tr>\n",
       "    <tr>\n",
       "      <th>B</th>\n",
       "      <td>5000.0</td>\n",
       "      <td>52.1168</td>\n",
       "      <td>18.952736</td>\n",
       "      <td>0.0</td>\n",
       "      <td>39.0</td>\n",
       "      <td>52.0</td>\n",
       "      <td>65.0</td>\n",
       "      <td>114.0</td>\n",
       "    </tr>\n",
       "  </tbody>\n",
       "</table>\n",
       "</div>"
      ],
      "text/plain": [
       "             count     mean        std  min   25%   50%   75%    max\n",
       "test_group                                                          \n",
       "A           5000.0  50.0450  18.729600  0.0  37.0  50.0  63.0  120.0\n",
       "B           5000.0  52.1168  18.952736  0.0  39.0  52.0  65.0  114.0"
      ]
     },
     "execution_count": 7,
     "metadata": {},
     "output_type": "execute_result"
    }
   ],
   "source": [
    "#Quick check of the distributions shows group B is higher in measures of central tendency\n",
    "dc.groupby('test_group')['rides_within_week'].describe()"
   ]
  },
  {
   "cell_type": "code",
   "execution_count": 12,
   "id": "1c8762c1",
   "metadata": {},
   "outputs": [],
   "source": [
    "A=dc[dc['test_group']=='A']['rides_within_week']\n",
    "B=dc[dc['test_group']=='B']['rides_within_week']"
   ]
  },
  {
   "cell_type": "code",
   "execution_count": 13,
   "id": "50d4cdca",
   "metadata": {},
   "outputs": [],
   "source": [
    "A = np.asarray(A, dtype='float')\n",
    "B = np.asarray(B, dtype='float')"
   ]
  },
  {
   "cell_type": "code",
   "execution_count": 14,
   "id": "9ae5df91",
   "metadata": {},
   "outputs": [
    {
     "data": {
      "image/png": "[encoded data removed]",
      "text/plain": [
       "<Figure size 640x480 with 1 Axes>"
      ]
     },
     "metadata": {},
     "output_type": "display_data"
    }
   ],
   "source": [
    "#Let's see the distributions plotted against each other\n",
    "\n",
    "plt.hist(A, label='A', bins=14, color='red')\n",
    " \n",
    "# plotting second histogram\n",
    "plt.hist(B, label=\"B\", bins=14, alpha=.7, edgecolor='royalblue')\n",
    "plt.legend()\n",
    "plt.axvline(A.mean(), color='red', linestyle='dashed', linewidth=1)\n",
    "plt.axvline(B.mean(), color='royalblue', linestyle='dashed', linewidth=1)\n",
    "plt.title('Rides within Week') \n",
    "# Showing the plot using plt.show()\n",
    "plt.show()"
   ]
  },
  {
   "cell_type": "code",
   "execution_count": 15,
   "id": "71f7caff",
   "metadata": {},
   "outputs": [],
   "source": [
    "my_pal = {\"A\": \"red\", \"B\": \"royalblue\"}"
   ]
  },
  {
   "cell_type": "code",
   "execution_count": 17,
   "id": "b448f72c",
   "metadata": {},
   "outputs": [
    {
     "data": {
      "image/png": "[encoded data removed]",
      "text/plain": [
       "<Figure size 640x480 with 1 Axes>"
      ]
     },
     "metadata": {},
     "output_type": "display_data"
    }
   ],
   "source": [
    "ax=sns.boxplot(data=dc,y='rides_within_week',x='test_group',palette=my_pal)"
   ]
  },
  {
   "cell_type": "markdown",
   "id": "d97085bc",
   "metadata": {},
   "source": [
    "The difference between the 2 groups is minimal and difficult to confirm based on scrutinising charts and descriptive statistics. To validate, we use our hypothesis testing skills. Based on the following assumptions, we can use a 2 sample T test.\n",
    "\n",
    "Samples are independent - True, as our drivers are not influenced by the no. of trips made by other drivers.\n",
    "\n",
    "The data is normally distributed - True, as seen in the histogram above. If in doubt, can test with Shapiro-Wilk.\n",
    "\n",
    "Variance of each group is equal - see test for equal variance below.\n",
    "\n",
    "Users were randomly assigned to test & control groups - True. See task description."
   ]
  },
  {
   "cell_type": "code",
   "execution_count": 23,
   "id": "02dffb8b",
   "metadata": {},
   "outputs": [
    {
     "data": {
      "text/plain": [
       "(0.9765920954696907, 0.7987877329992292)"
      ]
     },
     "execution_count": 23,
     "metadata": {},
     "output_type": "execute_result"
    }
   ],
   "source": [
    "# F Test for equal variance\n",
    "\n",
    "#define F-test function\n",
    "def f_test(x, y):\n",
    "    x = np.array(x)\n",
    "    y = np.array(y)\n",
    "    f = np.var(x, ddof=1)/np.var(y, ddof=1) #calculate F test statistic \n",
    "    dfn = x.size-1 #define degrees of freedom numerator \n",
    "    dfd = y.size-1 #define degrees of freedom denominator \n",
    "    p = 1-scipy.stats.f.cdf(f, dfn, dfd) #find p-value of F test statistic \n",
    "    return f, p\n",
    "\n",
    "#perform F-test\n",
    "f_test(A, B)"
   ]
  },
  {
   "cell_type": "markdown",
   "id": "8c637eca",
   "metadata": {},
   "source": [
    "P = 0.7987877329992292. As P >0.05, variance is equal & we can go ahead with our hypothesis test."
   ]
  },
  {
   "cell_type": "markdown",
   "id": "c34bfa1f",
   "metadata": {},
   "source": [
    "# Hypotheses\n",
    "\n",
    "H0: Rides per week in each group are equal i.e., μ1 = μ2.\n",
    "\n",
    "H1: Rides per week in each group are not equal i.e., μ1 ≠ μ2"
   ]
  },
  {
   "cell_type": "markdown",
   "id": "7b8575cc",
   "metadata": {},
   "source": [
    "Let's test for significance!"
   ]
  },
  {
   "cell_type": "code",
   "execution_count": 25,
   "id": "57018609",
   "metadata": {},
   "outputs": [],
   "source": [
    "from scipy import stats as st"
   ]
  },
  {
   "cell_type": "code",
   "execution_count": 29,
   "id": "2c9039e8",
   "metadata": {},
   "outputs": [],
   "source": [
    "t_value,p_value=st.ttest_ind(A,B)"
   ]
  },
  {
   "cell_type": "code",
   "execution_count": 30,
   "id": "bb7b8727",
   "metadata": {},
   "outputs": [
    {
     "name": "stdout",
     "output_type": "stream",
     "text": [
      "Test statistic is -5.497970\n",
      "p-value for two tailed test is 0.000000\n"
     ]
    }
   ],
   "source": [
    "print('Test statistic is %f'%float(\"{:.6f}\".format(t_value)))\n",
    "\n",
    "print('p-value for two tailed test is %f'%p_value)"
   ]
  },
  {
   "cell_type": "markdown",
   "id": "0467e807",
   "metadata": {},
   "source": [
    "<i> \"When the P is low, the null must go!\" </i>\n",
    "\n",
    "As P<0.05, we can reject the null hypothesis and conclude that there is a difference between the 2 groups. This suggests that the email campaign was effective."
   ]
  },
  {
   "cell_type": "code",
   "execution_count": 32,
   "id": "b86d7201",
   "metadata": {},
   "outputs": [],
   "source": [
    "#Let's also check confidence intervals with pingouin package\n",
    "import pingouin as pg"
   ]
  },
  {
   "cell_type": "code",
   "execution_count": 34,
   "id": "6649f576",
   "metadata": {},
   "outputs": [
    {
     "name": "stdout",
     "output_type": "stream",
     "text": [
      "              T          dof alternative         p-val           CI95%  \\\n",
      "T-test -5.49797  9996.598016   two-sided  3.936355e-08  [-2.81, -1.33]   \n",
      "\n",
      "         cohen-d       BF10     power  \n",
      "T-test  0.109959  7.897e+04  0.999798  \n"
     ]
    }
   ],
   "source": [
    "# two-sample ttest\n",
    "result = pg.ttest(A,B,correction=True)\n",
    "print(result)"
   ]
  },
  {
   "cell_type": "markdown",
   "id": "7116f01a",
   "metadata": {},
   "source": [
    "Our confidence interval shows that on average, drivers in group B did between 2.81 and 1.33 extra trips each than drivers in group A."
   ]
  },
  {
   "cell_type": "code",
   "execution_count": 56,
   "id": "496966d4",
   "metadata": {},
   "outputs": [],
   "source": [
    "diff=round(100*((B.sum()-A.sum())/(A.sum())),2)"
   ]
  },
  {
   "cell_type": "code",
   "execution_count": 66,
   "id": "6408e0b9",
   "metadata": {},
   "outputs": [
    {
     "name": "stdout",
     "output_type": "stream",
     "text": [
      "In total, Group B did 4.140000 % more rides per week than group A\n"
     ]
    }
   ],
   "source": [
    "print('In total, Group B did %f' %diff, '% more rides per week than group A')"
   ]
  },
  {
   "cell_type": "markdown",
   "id": "dc2eaf8b",
   "metadata": {},
   "source": [
    "# Results\n",
    "\n",
    "There is a significant difference in rides per week between the 2 groups. \n",
    "\n",
    "On average, drivers in group B did between 1.3 and 2.8 extra trips in the week compared to drivers in group A. In total, this works out as group B doing 4.14% more rides than group A."
   ]
  },
  {
   "cell_type": "code",
   "execution_count": 67,
   "id": "e4af6489",
   "metadata": {},
   "outputs": [
    {
     "data": {
      "image/png": "[encoded data removed]",
      "text/plain": [
       "<Figure size 640x480 with 1 Axes>"
      ]
     },
     "metadata": {},
     "output_type": "display_data"
    }
   ],
   "source": [
    "# plotting first histogram\n",
    "plt.hist(A, label='A', bins=14, color='red')\n",
    " \n",
    "# plotting second histogram\n",
    "plt.hist(B, label=\"B\", bins=14, alpha=.7, edgecolor='royalblue')\n",
    "plt.legend()\n",
    "plt.axvline(A.mean(), color='red', linestyle='dashed', linewidth=1)\n",
    "plt.axvline(B.mean(), color='royalblue', linestyle='dashed', linewidth=1)\n",
    "plt.title('Rides within Week') \n",
    "# Showing the plot using plt.show()\n",
    "plt.show()"
   ]
  },
  {
   "cell_type": "markdown",
   "id": "99b9039e",
   "metadata": {},
   "source": [
    "# Conclusion & Discussion\n",
    "\n"
   ]
  },
  {
   "cell_type": "markdown",
   "id": "c977fc97",
   "metadata": {},
   "source": [
    "These results are promising and they suggest that the email campaign was effective. However, its important to note that the test only collected data on rides per week for one week. One week is a very short period within which to observe an effect. Usually we would like to collect at least 2 weeks worth of data to observe the effect over time and also to account for any effects of seasonality that might have occurred during the time observed. For example, if there had been a holiday during the week where data was being collected, our results may not have reflected the effect of this email campaign under more typical circumstances. "
   ]
  },
  {
   "cell_type": "markdown",
   "id": "1bda4ffc",
   "metadata": {},
   "source": [
    "# Recommendation\n",
    "Considering the results and the low risk, low cost nature of an email campaign, I would advise a product manager to roll out this campaign but advise that in future, such a test should collect data over a longer period of time."
   ]
  },
  {
   "cell_type": "code",
   "execution_count": null,
   "id": "1c9e684e",
   "metadata": {},
   "outputs": [],
   "source": []
  }
 ],
 "metadata": {
  "kernelspec": {
   "display_name": "Python 3 (ipykernel)",
   "language": "python",
   "name": "python3"
  },
  "language_info": {
   "codemirror_mode": {
    "name": "ipython",
    "version": 3
   },
   "file_extension": ".py",
   "mimetype": "text/x-python",
   "name": "python",
   "nbconvert_exporter": "python",
   "pygments_lexer": "ipython3",
   "version": "3.8.16"
  }
 },
 "nbformat": 4,
 "nbformat_minor": 5
}
